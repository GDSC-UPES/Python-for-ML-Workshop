{
  "cells": [
    {
      "cell_type": "markdown",
      "metadata": {
        "id": "KYLtcsN9Mb8m"
      },
      "source": [
        "# What is Python?\n",
        "* Created by Guido van Rossum in 1991\n",
        "* used in web development,file manipulation, big data handling and many more\n",
        "* platform independent language"
      ]
    },
    {
      "cell_type": "code",
      "execution_count": null,
      "metadata": {
        "id": "5-xy3u2wMb8p",
        "outputId": "9be49fb9-a9ce-4b58-cfdf-936b281704c0"
      },
      "outputs": [
        {
          "name": "stdout",
          "output_type": "stream",
          "text": [
            "Hello World\n",
            "2434\n",
            "23.56\n",
            "A\n",
            "1\n"
          ]
        }
      ],
      "source": [
        "print(\"Hello World\")\n",
        "print(2434)\n",
        "print(23.56)\n",
        "print(\"A\")\n",
        "print(True)"
      ]
    },
    {
      "cell_type": "code",
      "execution_count": null,
      "metadata": {
        "id": "aFVwPL3LMb8r",
        "outputId": "575db36a-b4af-4aa2-e7ce-2b3e4bcef582"
      },
      "outputs": [
        {
          "name": "stdout",
          "output_type": "stream",
          "text": [
            "hello 234 23.54 True\n",
            "Hello World!!This is Parnika Sarbahi!!from GDSC$$$first\n",
            "second\n"
          ]
        }
      ],
      "source": [
        "print('hello',234,23.54,True)\n",
        "print(\"Hello World\",\"This is Parnika Sarbahi\",\"from GDSC\",sep=\"!!\",end=\"$$$\")\n",
        "print(\"first\")\n",
        "print(\"second\")"
      ]
    },
    {
      "cell_type": "code",
      "execution_count": null,
      "metadata": {
        "id": "H9e26LtOMb8r",
        "outputId": "053600e8-f199-4470-c14e-049366ff9b42"
      },
      "outputs": [
        {
          "name": "stdout",
          "output_type": "stream",
          "text": [
            "parnika sarbahi\n",
            "parnikasarbahi\n",
            "parnika5\n"
          ]
        }
      ],
      "source": [
        "x=5\n",
        "name,Name=\"parnika\",\"sarbahi\"\n",
        "print(name,Name)\n",
        "print(name+Name)\n",
        "print(name+str(x))\n"
      ]
    },
    {
      "cell_type": "markdown",
      "metadata": {
        "id": "ZPu-ekR-Mb8r"
      },
      "source": [
        "# Type Casting\n",
        "* Implicit Casting\n",
        "> automatically done by the interpreter\n",
        "* Explicit Casting\n",
        "> done by the programmer\n"
      ]
    },
    {
      "cell_type": "code",
      "execution_count": null,
      "metadata": {
        "id": "RkfXYfz7Mb8s"
      },
      "outputs": [],
      "source": [
        "x=5\n",
        "y=23.53\n",
        "print(x+y)"
      ]
    },
    {
      "cell_type": "code",
      "execution_count": null,
      "metadata": {
        "id": "pEPU-j53Mb8s"
      },
      "outputs": [],
      "source": [
        "name=input(\"Enter your name:\")\n",
        "age=int(input(\"Enter age:\"))#\n",
        "print(\"Hello\",name,\"after five years you will be\",age+5,\"years old\")#to show how input function returns string"
      ]
    },
    {
      "cell_type": "markdown",
      "metadata": {
        "id": "pHIB2hbUMb8s"
      },
      "source": [
        "# Operators"
      ]
    },
    {
      "cell_type": "markdown",
      "metadata": {
        "id": "OIgsO0KqMb8s"
      },
      "source": [
        "Arithemetic Operators"
      ]
    },
    {
      "cell_type": "code",
      "execution_count": null,
      "metadata": {
        "id": "ESyD7bwuMb8t",
        "outputId": "9390a9a0-d93b-4ba6-b19a-61575d9c002b"
      },
      "outputs": [
        {
          "name": "stdout",
          "output_type": "stream",
          "text": [
            "102\n",
            "98\n",
            "200\n",
            "50.0\n",
            "0\n",
            "10000\n",
            "50\n",
            "1\n"
          ]
        }
      ],
      "source": [
        "x=100\n",
        "y=2\n",
        "print(x+y)\n",
        "print(x-y)\n",
        "print(x*y)\n",
        "print(x/y)#division always returns float\n",
        "print(x%y)#modulas\n",
        "print(x**y)#exponentiation\n",
        "print(x//y)#floor devision\n",
        "print(3//2)"
      ]
    },
    {
      "cell_type": "code",
      "execution_count": null,
      "metadata": {
        "id": "VZc2M4j9Mb8t",
        "outputId": "581c458e-d270-462b-f8bc-fdba74211f19"
      },
      "outputs": [
        {
          "name": "stdout",
          "output_type": "stream",
          "text": [
            "4.0\n"
          ]
        }
      ],
      "source": [
        "import math\n",
        "print(math.sqrt(16))    # Square root: Output: 4.0\n",
        "print(math.pow(2, 3))    # Power: Output: 8.0\n",
        "print(math.ceil(4.2))    # Ceil (round up): Output: 5\n",
        "print(math.floor(4.9))   # Floor (round down): Output: 4\n",
        "print(math.fabs(-5))     # Absolute value: Output: 5.0"
      ]
    },
    {
      "cell_type": "markdown",
      "metadata": {
        "id": "hrKCXWtBMb8t"
      },
      "source": [
        "Assignment Operator"
      ]
    },
    {
      "cell_type": "code",
      "execution_count": null,
      "metadata": {
        "id": "6SDeVW35Mb8t"
      },
      "outputs": [],
      "source": [
        "x=5\n",
        "x+=3 #same as x=x+3\n",
        "x**=3 #x=x**3"
      ]
    },
    {
      "cell_type": "markdown",
      "metadata": {
        "id": "OOWewKn3Mb8t"
      },
      "source": [
        "Comparison Operators"
      ]
    },
    {
      "cell_type": "code",
      "execution_count": null,
      "metadata": {
        "id": "w_8PUkXbMb8u",
        "outputId": "ff9ff1f9-22fd-4521-ebde-ae6c7ccb2e3c"
      },
      "outputs": [
        {
          "name": "stdout",
          "output_type": "stream",
          "text": [
            "False\n",
            "True\n",
            "True\n",
            "True\n",
            "False\n",
            "True\n",
            "False\n",
            "True\n",
            "False\n"
          ]
        }
      ],
      "source": [
        "x=9\n",
        "y=8\n",
        "print(x==y)\n",
        "print(7==7.0)\n",
        "print(x!= y)\n",
        "print(x > y)\n",
        "print(x < y)\n",
        "print('a'>'Z')##compares ascii values\n",
        "print('abc'>'abd')\n",
        "print(x >= y)\n",
        "print(x <= y)"
      ]
    },
    {
      "cell_type": "markdown",
      "metadata": {
        "id": "nXAh8e-lMb8u"
      },
      "source": [
        "Logical Operators"
      ]
    },
    {
      "cell_type": "code",
      "execution_count": null,
      "metadata": {
        "id": "L5XGbLD6Mb8u"
      },
      "outputs": [],
      "source": [
        "x=7\n",
        "print(x<5 and x<10)\n",
        "print(x>5 or x<4)\n",
        "print(not(x < 5 and x < 10))"
      ]
    },
    {
      "cell_type": "markdown",
      "metadata": {
        "id": "qlVMIRvgMb8u"
      },
      "source": [
        "Identity Operators"
      ]
    },
    {
      "cell_type": "code",
      "execution_count": null,
      "metadata": {
        "id": "lVEtn5wHMb8u"
      },
      "outputs": [],
      "source": [
        "x,y=8,9\n",
        "print(x is y)\n",
        "print(x is not y)"
      ]
    },
    {
      "cell_type": "markdown",
      "metadata": {
        "id": "_kKgOS0oMb8u"
      },
      "source": [
        "Membership Operators"
      ]
    },
    {
      "cell_type": "code",
      "execution_count": null,
      "metadata": {
        "id": "SzeDACU5Mb8u"
      },
      "outputs": [],
      "source": [
        "y='This is a string'\n",
        "x='P'\n",
        "print(x in y)\n",
        "print(x not in y)"
      ]
    },
    {
      "cell_type": "markdown",
      "metadata": {
        "id": "cfCOYpSnMb8u"
      },
      "source": [
        "# Decision Making\n",
        "> A simple program to check the nature of a number"
      ]
    },
    {
      "cell_type": "code",
      "execution_count": null,
      "metadata": {
        "id": "SeuLWp2_Mb8u"
      },
      "outputs": [],
      "source": [
        "n=int(input(\"Enter a number\"))\n",
        "if(n>0):\n",
        "    if(n%2==0):\n",
        "        print(\"Number is positive and even\")\n",
        "    else:\n",
        "        print(\"Number is positive and odd\")\n",
        "\n",
        "elif(n<0):\n",
        "    if(n%2==0):\n",
        "        print(\"Number is negative and even\")\n",
        "    else:\n",
        "        print(\"Number is negative and odd\")\n",
        "elif(n==0):\n",
        "    print(\"Number is zero\")\n",
        "\n",
        "else:\n",
        "    print(\"Invalid input\")\n"
      ]
    },
    {
      "cell_type": "markdown",
      "metadata": {
        "id": "Mg29ZUqBMb8u"
      },
      "source": [
        "Ternery Operaor"
      ]
    },
    {
      "cell_type": "code",
      "execution_count": null,
      "metadata": {
        "id": "T5XFmGuaMb8u"
      },
      "outputs": [],
      "source": [
        "#syntax\n",
        "#[on_true] if [expression] else [on_false]\n",
        "print (\"Both a and b are equal\" if a == b else \"a is greater than b\"\n",
        "       if a > b else \"b is greater than a\")"
      ]
    },
    {
      "cell_type": "markdown",
      "metadata": {
        "id": "SfzPmnezMb8v"
      },
      "source": [
        "# Loops\n",
        "* for loop: set number of times\n",
        "* while loop: indefinite number of times"
      ]
    },
    {
      "cell_type": "code",
      "execution_count": null,
      "metadata": {
        "id": "ukQ7Itn2Mb8v",
        "outputId": "baad672d-e101-4d73-acc7-3c41fd57a668"
      },
      "outputs": [
        {
          "name": "stdout",
          "output_type": "stream",
          "text": [
            "1 2 3 4 "
          ]
        }
      ],
      "source": [
        "#for loop syntax\n",
        "#for i in range(start,stop,step):\n",
        "for i in range (1, 5): # will iterate from i=1 to 4\n",
        "    print (i, end=' ')\n",
        "print()\n",
        "for i in range(5, 1, -1): # 5 to 1 and step value of -1\n",
        "    print (i, end =' ')\n",
        "print()\n",
        "for i in range (1, 5, 2):\n",
        "    print (i, end=' ')\n",
        "print()\n",
        "for i in range ( 5, 1, -2): # reverse loop with step count as -2\n",
        "    print (i, end=' ')\n",
        "print()"
      ]
    },
    {
      "cell_type": "code",
      "execution_count": null,
      "metadata": {
        "id": "Qs_ajTwBMb8v"
      },
      "outputs": [],
      "source": [
        "#while loop syntax\n",
        "#while(expression):\n",
        "a=\"y\"\n",
        "while(a==\"y\"):\n",
        "    print(\"hello\")\n",
        "    a=input(\"Do you want to print again?[y/n]\")\n"
      ]
    },
    {
      "cell_type": "markdown",
      "metadata": {
        "id": "HzfNPt4yMb8v"
      },
      "source": [
        "# Control Statements\n",
        "* break statement: used to terminate the loop or statement in which it is present\n",
        "* continue statement: forces to execute the next iteration of the loop.\n"
      ]
    },
    {
      "cell_type": "code",
      "execution_count": null,
      "metadata": {
        "id": "V0OUOM4vMb8v"
      },
      "outputs": [],
      "source": [
        "# break statement\n",
        "i = 0\n",
        "count = 0\n",
        "while (i < 5):\n",
        "    a = int(input()) # explicit conversion string -> int\n",
        "    if a < 3:\n",
        "        count=count+1;\n",
        "        print (\"wrong input\",count,\"times\")\n",
        "    else:\n",
        "        print (\"ok\")\n",
        "    if count == 3:\n",
        "        print (\"limit exceeded\")\n",
        "        break\n",
        "    i = i + 1\n",
        "\n",
        " # break and continue can only be used with loop, and not with if etc."
      ]
    },
    {
      "cell_type": "code",
      "execution_count": null,
      "metadata": {
        "id": "Udf90BCOMb8v"
      },
      "outputs": [],
      "source": [
        "for i in range(1, 6):\n",
        "    if i == 3:\n",
        "        continue  # Skip the rest of the loop for i = 3\n",
        "    print(\"Iteration:\", i)"
      ]
    },
    {
      "cell_type": "markdown",
      "metadata": {
        "id": "odxb7I0CMb8v"
      },
      "source": [
        "# List\n",
        "* It is a sequence data type which is used to store the collection of data.\n",
        "* It is mutable and duplicates are allowed.\n",
        "* It is enclosed in [ ] and separated by commas."
      ]
    },
    {
      "cell_type": "code",
      "execution_count": null,
      "metadata": {
        "id": "Yyu1_YUVMb8v",
        "outputId": "b2f7e6c4-1223-429a-e5e5-13a951cfa093"
      },
      "outputs": [
        {
          "name": "stdout",
          "output_type": "stream",
          "text": [
            "7\n",
            "8\n",
            "[1, 2, 3, 4, 5]\n"
          ]
        }
      ],
      "source": [
        "L=[2,8,6,4,7]\n",
        "print(L[4])\n",
        "print(L[-4])\n",
        "U=[]\n",
        "n=int(input(\"enter length of list\"))\n",
        "for i in range(n):\n",
        "    ele=int(input(\"enter element:\"))\n",
        "    U.append(ele)\n",
        "print(U)"
      ]
    },
    {
      "cell_type": "code",
      "execution_count": null,
      "metadata": {
        "id": "_ILkX0t5Mb8w",
        "outputId": "821e256d-4695-461f-a33f-5d29f232346f"
      },
      "outputs": [
        {
          "name": "stdout",
          "output_type": "stream",
          "text": [
            "[2, 4, 6, 7, 8]\n",
            "[8, 7, 6, 4, 2]\n"
          ]
        }
      ],
      "source": [
        "L.sort()\n",
        "print(L)\n",
        "L.sort(reverse=True)\n",
        "print(L)"
      ]
    },
    {
      "cell_type": "markdown",
      "metadata": {
        "id": "AoSeY3OSMb8w"
      },
      "source": [
        "# Tuple\n",
        "* It is a collection data type\n",
        "* It is immutable and duplicates allowed\n",
        "* Elements are enclosed in parenthesis"
      ]
    },
    {
      "cell_type": "code",
      "execution_count": null,
      "metadata": {
        "id": "Y3jiCcWLMb8w",
        "outputId": "f3e4dae8-75a0-493f-ab17-13c36659bd53"
      },
      "outputs": [
        {
          "name": "stdout",
          "output_type": "stream",
          "text": [
            "(1, 2, 3, 4)\n",
            "1,2,3,4,"
          ]
        }
      ],
      "source": [
        "fruits=(\"apple\",\"banana\",\"cherry\")\n",
        "l=[1,2,3,4]\n",
        "t=tuple(l)\n",
        "print(t)\n",
        "for i in range(0,len(t)):\n",
        "    print(t[i],end=\",\")"
      ]
    },
    {
      "cell_type": "markdown",
      "metadata": {
        "id": "FhkcNDlUMb8w"
      },
      "source": [
        "# Dictionary\n",
        "* stores the value in value:key pairs.\n",
        "* Syntax: dict_var = {key1 : value1, key2 : value2, …..}\n",
        "* Values can be changed but the keys are immutable"
      ]
    },
    {
      "cell_type": "code",
      "execution_count": null,
      "metadata": {
        "id": "-PNRehTDMb8w",
        "outputId": "b20fbf69-7d98-4b98-fc57-0b7075090956"
      },
      "outputs": [
        {
          "name": "stdout",
          "output_type": "stream",
          "text": [
            "{'chemistry': 94, 'Physics': 67, 'Maths': 84, 'Cs': 97}\n",
            "{'chemistry': 94, 'Physics': 76, 'Maths': 84, 'Cs': 97}\n"
          ]
        }
      ],
      "source": [
        "L=[82,94,88,65]\n",
        "marks={\"chemistry\":94,\"Physics\":67,\"Maths\":84,\"Cs\":97}\n",
        "print(marks)\n",
        "marks[\"Physics\"]=76\n",
        "print(marks)\n"
      ]
    },
    {
      "cell_type": "markdown",
      "metadata": {
        "id": "KIsIL9Z5Mb8w"
      },
      "source": [
        "Slicing"
      ]
    },
    {
      "cell_type": "code",
      "execution_count": null,
      "metadata": {
        "id": "1sxTamsEMb8z",
        "outputId": "f357f41d-348c-4540-88b6-ed4af5118e2b"
      },
      "outputs": [
        {
          "name": "stdout",
          "output_type": "stream",
          "text": [
            "(1, 2, 3, 4)\n",
            "asr\n",
            "[9, 8, 7, 6, 5, 4, 3, 2, 1]\n",
            "(5, 4, 3, 2, 1)\n",
            "4\n"
          ]
        }
      ],
      "source": [
        "#Syntax:variable_name[start:stop:end]\n",
        "t=(1,2,3,4,5)\n",
        "s=\"This is a string\"\n",
        "l=[1,2,3,4,5,6,7,8,9]\n",
        "print(t[0:4])\n",
        "print(s[8:14:2])\n",
        "print(l[::-1])\n",
        "print(t[::-1])"
      ]
    },
    {
      "cell_type": "markdown",
      "metadata": {
        "id": "ATj3k-2yMb80"
      },
      "source": [
        "# Lambda"
      ]
    },
    {
      "cell_type": "code",
      "execution_count": null,
      "metadata": {
        "id": "cv6f_QjWMb80",
        "outputId": "c99ff459-5f46-4f20-a804-5f6bd9a41782"
      },
      "outputs": [
        {
          "name": "stdout",
          "output_type": "stream",
          "text": [
            "15\n",
            "13\n"
          ]
        }
      ],
      "source": [
        "#syntax\n",
        "#lambda arguments : expression\n",
        "x = lambda a : a + 10\n",
        "print(x(5))\n",
        "x = lambda a, b, c : a + b + c\n",
        "print(x(5, 6, 2))"
      ]
    },
    {
      "cell_type": "markdown",
      "metadata": {
        "id": "IlII4Yx3Mb80"
      },
      "source": [
        "# Enum\n",
        "* A way to create named constant values that are members of an ordered set.\n",
        "* Enum members are accessed using the dot notation"
      ]
    },
    {
      "cell_type": "code",
      "execution_count": null,
      "metadata": {
        "id": "KgORHOnVMb80",
        "outputId": "8ffc385c-2256-4fad-d0ce-3e2f12380809"
      },
      "outputs": [
        {
          "name": "stdout",
          "output_type": "stream",
          "text": [
            "Color.RED\n",
            "1\n"
          ]
        }
      ],
      "source": [
        "from enum import Enum\n",
        "class Color(Enum):# Define an enumeration class\n",
        "    RED=1\n",
        "    GREEN=2\n",
        "    BLUE=3\n",
        "\n",
        "#print(Color.RED)# Accessing enum members\n",
        "print(Color.RED.value) # Accessing enum values"
      ]
    },
    {
      "cell_type": "markdown",
      "metadata": {
        "id": "BSyJWvQ-Mb80"
      },
      "source": [
        "# Inheritance\n",
        "* It is the capability of one class to derive or inherit the properties from another class.\n",
        "* It allows us to add more features to a class without modifying it."
      ]
    },
    {
      "cell_type": "code",
      "execution_count": null,
      "metadata": {
        "id": "4dc4piI0Mb80"
      },
      "outputs": [],
      "source": [
        "#Syntax\n",
        "#class BaseClass:\n",
        "#    {Body}\n",
        "#class DerivedClass(BaseClass):\n",
        "#    {Body}"
      ]
    },
    {
      "cell_type": "code",
      "execution_count": null,
      "metadata": {
        "id": "8uyF_E8aMb80",
        "colab": {
          "base_uri": "https://localhost:8080/"
        },
        "outputId": "0a22f077-70ef-45ec-a15e-b0a79f45b893"
      },
      "outputs": [
        {
          "output_type": "stream",
          "name": "stdout",
          "text": [
            "Rahul 23\n",
            "Mayank 23\n"
          ]
        }
      ],
      "source": [
        "\n",
        "class Person():# parent class\n",
        "  def __init__(self, x,y):\n",
        "    self.name = x\n",
        "    self.age = y\n",
        "\n",
        "  def display(self):\n",
        "    print(self.name, self.age)\n",
        "\n",
        "class Student(Person):# child class\n",
        "  def __init__(self, name, age):\n",
        "    self.sName = name\n",
        "    self.sAge = age\n",
        "    super().__init__(\"Rahul\", age)# inheriting the properties of parent class\n",
        "\n",
        "  def displayInfo(self):\n",
        "    print(self.sName, self.sAge)\n",
        "\n",
        "obj = Student(\"Mayank\", 23)\n",
        "obj.display()\n",
        "obj.displayInfo()"
      ]
    },
    {
      "cell_type": "markdown",
      "metadata": {
        "id": "y8-ir805Mb80"
      },
      "source": [
        "# File Handling"
      ]
    },
    {
      "cell_type": "markdown",
      "source": [
        "# CSV Files\n",
        "* A CSV file stores tabular data (numbers and text) in plain text.\n",
        "* Each line of the file is a data record\n",
        "* Each record consists of one or more fields, separated by commas."
      ],
      "metadata": {
        "id": "PFHySE24_pJE"
      }
    },
    {
      "cell_type": "code",
      "source": [
        "import csv\n",
        "f=open(\"student.csv\",'r')#opens file in read mode\n",
        "csv_reader=csv.reader(f)\n",
        "for row in csv_reader:\n",
        "  print(row)\n",
        "f.close()"
      ],
      "metadata": {
        "id": "ARGjNCIQFSOv"
      },
      "execution_count": null,
      "outputs": []
    },
    {
      "cell_type": "code",
      "execution_count": null,
      "metadata": {
        "colab": {
          "base_uri": "https://localhost:8080/"
        },
        "id": "yw5uJoz2Mb80",
        "outputId": "6afb0f24-391a-4996-aaf1-0c14a7578458"
      },
      "outputs": [
        {
          "output_type": "stream",
          "name": "stdout",
          "text": [
            "File created\n"
          ]
        }
      ],
      "source": [
        "import csv\n",
        "fields=['Name','Class','Year','Percent']\n",
        "rows=[['Shaurya','XI','2004','82'],['Rohit','XII','2003','92'],['Prerna','XI','2004','85'],['Deep','XII','200.','79']]\n",
        "filename=\"marks.csv\"\n",
        "with open(filename,'w',newline='') as f:\n",
        "  csv_w=csv.writer(f,delimiter=\",\")\n",
        "  csv_w.writerow(fields)\n",
        "  for i in rows:\n",
        "    csv_w.writerow(i)\n",
        "  print(\"File created\")"
      ]
    },
    {
      "cell_type": "code",
      "execution_count": null,
      "metadata": {
        "id": "Xj0Zu2LbMb80"
      },
      "outputs": [],
      "source": [
        "import json\n",
        "x='{\"name\":\"John\", \"age\":30, \"city\":\"New York\"}'# some JSON:\n",
        "\n",
        "y = json.loads(x)# parse x:\n",
        "# the result is a Python dictionary:\n",
        "print(y[\"age\"])"
      ]
    },
    {
      "cell_type": "code",
      "execution_count": null,
      "metadata": {
        "id": "3mt1nzSbMb81"
      },
      "outputs": [],
      "source": [
        "import json\n",
        "#a Python object (dict):\n",
        "x = {\"name\": \"John\",\"age\": 30,\"city\": \"New York\"}\n",
        "\n",
        "y=json.dumps(x)# convert into JSON:\n",
        "\n",
        "print(y)# the result is a JSON string:"
      ]
    },
    {
      "cell_type": "markdown",
      "metadata": {
        "id": "3cEUbuOxMb81"
      },
      "source": [
        "# Exception Handling"
      ]
    },
    {
      "cell_type": "code",
      "execution_count": null,
      "metadata": {
        "id": "i6i1Zb1SMb81",
        "outputId": "a52bb20a-2056-4f75-80f9-cbdce86fb083"
      },
      "outputs": [
        {
          "ename": "ZeroDivisionError",
          "evalue": "division by zero",
          "output_type": "error",
          "traceback": [
            "\u001b[1;31m---------------------------------------------------------------------------\u001b[0m",
            "\u001b[1;31mZeroDivisionError\u001b[0m                         Traceback (most recent call last)",
            "Cell \u001b[1;32mIn[18], line 1\u001b[0m\n\u001b[1;32m----> 1\u001b[0m result\u001b[38;5;241m=\u001b[39m\u001b[38;5;241m10\u001b[39m\u001b[38;5;241m/\u001b[39m\u001b[38;5;241m0\u001b[39m\n\u001b[0;32m      2\u001b[0m \u001b[38;5;28mprint\u001b[39m(result)\n",
            "\u001b[1;31mZeroDivisionError\u001b[0m: division by zero"
          ]
        }
      ],
      "source": [
        "result=10/0\n",
        "print(result)"
      ]
    },
    {
      "cell_type": "code",
      "execution_count": null,
      "metadata": {
        "id": "SaoxkhRjMb81",
        "outputId": "91a65440-14e1-4208-9322-0b6a4178348a"
      },
      "outputs": [
        {
          "name": "stdout",
          "output_type": "stream",
          "text": [
            "Cannot divide by zero.\n"
          ]
        }
      ],
      "source": [
        "try:\n",
        "    # Code that might raise an exception\n",
        "    result = 10 / 0\n",
        "except ZeroDivisionError:#Handle the specific exception\n",
        "    print(\"Cannot divide by zero.\")"
      ]
    },
    {
      "cell_type": "code",
      "execution_count": null,
      "metadata": {
        "id": "OzE9FBk-Mb81",
        "outputId": "bee35598-4ad2-4c55-d8c7-d39be57d380a"
      },
      "outputs": [
        {
          "name": "stdout",
          "output_type": "stream",
          "text": [
            "An error occurred: division by zero\n"
          ]
        }
      ],
      "source": [
        "try:\n",
        "    result = 10 / 0\n",
        "except Exception as e:\n",
        "    print(\"An error occurred:\",e)# Handle the exception and print its details\n"
      ]
    }
  ],
  "metadata": {
    "kernelspec": {
      "display_name": "base",
      "language": "python",
      "name": "python3"
    },
    "language_info": {
      "codemirror_mode": {
        "name": "ipython",
        "version": 3
      },
      "file_extension": ".py",
      "mimetype": "text/x-python",
      "name": "python",
      "nbconvert_exporter": "python",
      "pygments_lexer": "ipython3",
      "version": "3.11.5"
    },
    "colab": {
      "provenance": []
    }
  },
  "nbformat": 4,
  "nbformat_minor": 0
}